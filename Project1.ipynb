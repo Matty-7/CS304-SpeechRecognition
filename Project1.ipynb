{
 "cells": [
  {
   "cell_type": "code",
   "execution_count": 2,
   "metadata": {},
   "outputs": [
    {
     "name": "stdout",
     "output_type": "stream",
     "text": [
      "Requirement already satisfied: keyboard in /opt/homebrew/lib/python3.11/site-packages (0.13.5)\n",
      "Requirement already satisfied: pyobjc in /opt/homebrew/lib/python3.11/site-packages (from keyboard) (10.1)\n",
      "Requirement already satisfied: pyobjc-core==10.1 in /opt/homebrew/lib/python3.11/site-packages (from pyobjc->keyboard) (10.1)\n",
      "Requirement already satisfied: pyobjc-framework-AddressBook==10.1 in /opt/homebrew/lib/python3.11/site-packages (from pyobjc->keyboard) (10.1)\n",
      "Requirement already satisfied: pyobjc-framework-AppleScriptKit==10.1 in /opt/homebrew/lib/python3.11/site-packages (from pyobjc->keyboard) (10.1)\n",
      "Requirement already satisfied: pyobjc-framework-ApplicationServices==10.1 in /opt/homebrew/lib/python3.11/site-packages (from pyobjc->keyboard) (10.1)\n",
      "Requirement already satisfied: pyobjc-framework-Automator==10.1 in /opt/homebrew/lib/python3.11/site-packages (from pyobjc->keyboard) (10.1)\n",
      "Requirement already satisfied: pyobjc-framework-CFNetwork==10.1 in /opt/homebrew/lib/python3.11/site-packages (from pyobjc->keyboard) (10.1)\n",
      "Requirement already satisfied: pyobjc-framework-Cocoa==10.1 in /opt/homebrew/lib/python3.11/site-packages (from pyobjc->keyboard) (10.1)\n",
      "Requirement already satisfied: pyobjc-framework-CoreAudio==10.1 in /opt/homebrew/lib/python3.11/site-packages (from pyobjc->keyboard) (10.1)\n",
      "Requirement already satisfied: pyobjc-framework-CoreAudioKit==10.1 in /opt/homebrew/lib/python3.11/site-packages (from pyobjc->keyboard) (10.1)\n",
      "Requirement already satisfied: pyobjc-framework-CoreData==10.1 in /opt/homebrew/lib/python3.11/site-packages (from pyobjc->keyboard) (10.1)\n",
      "Requirement already satisfied: pyobjc-framework-CoreMIDI==10.1 in /opt/homebrew/lib/python3.11/site-packages (from pyobjc->keyboard) (10.1)\n",
      "Requirement already satisfied: pyobjc-framework-CoreServices==10.1 in /opt/homebrew/lib/python3.11/site-packages (from pyobjc->keyboard) (10.1)\n",
      "Requirement already satisfied: pyobjc-framework-CoreText==10.1 in /opt/homebrew/lib/python3.11/site-packages (from pyobjc->keyboard) (10.1)\n",
      "Requirement already satisfied: pyobjc-framework-DiscRecording==10.1 in /opt/homebrew/lib/python3.11/site-packages (from pyobjc->keyboard) (10.1)\n",
      "Requirement already satisfied: pyobjc-framework-DiscRecordingUI==10.1 in /opt/homebrew/lib/python3.11/site-packages (from pyobjc->keyboard) (10.1)\n",
      "Requirement already satisfied: pyobjc-framework-DiskArbitration==10.1 in /opt/homebrew/lib/python3.11/site-packages (from pyobjc->keyboard) (10.1)\n",
      "Requirement already satisfied: pyobjc-framework-DVDPlayback==10.1 in /opt/homebrew/lib/python3.11/site-packages (from pyobjc->keyboard) (10.1)\n",
      "Requirement already satisfied: pyobjc-framework-ExceptionHandling==10.1 in /opt/homebrew/lib/python3.11/site-packages (from pyobjc->keyboard) (10.1)\n",
      "Requirement already satisfied: pyobjc-framework-InstallerPlugins==10.1 in /opt/homebrew/lib/python3.11/site-packages (from pyobjc->keyboard) (10.1)\n",
      "Requirement already satisfied: pyobjc-framework-IOBluetooth==10.1 in /opt/homebrew/lib/python3.11/site-packages (from pyobjc->keyboard) (10.1)\n",
      "Requirement already satisfied: pyobjc-framework-IOBluetoothUI==10.1 in /opt/homebrew/lib/python3.11/site-packages (from pyobjc->keyboard) (10.1)\n",
      "Requirement already satisfied: pyobjc-framework-LatentSemanticMapping==10.1 in /opt/homebrew/lib/python3.11/site-packages (from pyobjc->keyboard) (10.1)\n",
      "Requirement already satisfied: pyobjc-framework-LaunchServices==10.1 in /opt/homebrew/lib/python3.11/site-packages (from pyobjc->keyboard) (10.1)\n",
      "Requirement already satisfied: pyobjc-framework-OSAKit==10.1 in /opt/homebrew/lib/python3.11/site-packages (from pyobjc->keyboard) (10.1)\n",
      "Requirement already satisfied: pyobjc-framework-PreferencePanes==10.1 in /opt/homebrew/lib/python3.11/site-packages (from pyobjc->keyboard) (10.1)\n",
      "Requirement already satisfied: pyobjc-framework-Quartz==10.1 in /opt/homebrew/lib/python3.11/site-packages (from pyobjc->keyboard) (10.1)\n",
      "Requirement already satisfied: pyobjc-framework-ScreenSaver==10.1 in /opt/homebrew/lib/python3.11/site-packages (from pyobjc->keyboard) (10.1)\n",
      "Requirement already satisfied: pyobjc-framework-Security==10.1 in /opt/homebrew/lib/python3.11/site-packages (from pyobjc->keyboard) (10.1)\n",
      "Requirement already satisfied: pyobjc-framework-SecurityFoundation==10.1 in /opt/homebrew/lib/python3.11/site-packages (from pyobjc->keyboard) (10.1)\n",
      "Requirement already satisfied: pyobjc-framework-SecurityInterface==10.1 in /opt/homebrew/lib/python3.11/site-packages (from pyobjc->keyboard) (10.1)\n",
      "Requirement already satisfied: pyobjc-framework-SearchKit==10.1 in /opt/homebrew/lib/python3.11/site-packages (from pyobjc->keyboard) (10.1)\n",
      "Requirement already satisfied: pyobjc-framework-SyncServices==10.1 in /opt/homebrew/lib/python3.11/site-packages (from pyobjc->keyboard) (10.1)\n",
      "Requirement already satisfied: pyobjc-framework-SystemConfiguration==10.1 in /opt/homebrew/lib/python3.11/site-packages (from pyobjc->keyboard) (10.1)\n",
      "Requirement already satisfied: pyobjc-framework-WebKit==10.1 in /opt/homebrew/lib/python3.11/site-packages (from pyobjc->keyboard) (10.1)\n",
      "Requirement already satisfied: pyobjc-framework-AppleScriptObjC==10.1 in /opt/homebrew/lib/python3.11/site-packages (from pyobjc->keyboard) (10.1)\n",
      "Requirement already satisfied: pyobjc-framework-CoreLocation==10.1 in /opt/homebrew/lib/python3.11/site-packages (from pyobjc->keyboard) (10.1)\n",
      "Requirement already satisfied: pyobjc-framework-CoreWLAN==10.1 in /opt/homebrew/lib/python3.11/site-packages (from pyobjc->keyboard) (10.1)\n",
      "Requirement already satisfied: pyobjc-framework-ImageCaptureCore==10.1 in /opt/homebrew/lib/python3.11/site-packages (from pyobjc->keyboard) (10.1)\n",
      "Requirement already satisfied: pyobjc-framework-IOSurface==10.1 in /opt/homebrew/lib/python3.11/site-packages (from pyobjc->keyboard) (10.1)\n",
      "Requirement already satisfied: pyobjc-framework-NetFS==10.1 in /opt/homebrew/lib/python3.11/site-packages (from pyobjc->keyboard) (10.1)\n",
      "Requirement already satisfied: pyobjc-framework-OpenDirectory==10.1 in /opt/homebrew/lib/python3.11/site-packages (from pyobjc->keyboard) (10.1)\n",
      "Requirement already satisfied: pyobjc-framework-ServiceManagement==10.1 in /opt/homebrew/lib/python3.11/site-packages (from pyobjc->keyboard) (10.1)\n",
      "Requirement already satisfied: pyobjc-framework-iTunesLibrary==10.1 in /opt/homebrew/lib/python3.11/site-packages (from pyobjc->keyboard) (10.1)\n",
      "Requirement already satisfied: pyobjc-framework-AVFoundation==10.1 in /opt/homebrew/lib/python3.11/site-packages (from pyobjc->keyboard) (10.1)\n",
      "Requirement already satisfied: pyobjc-framework-CoreMedia==10.1 in /opt/homebrew/lib/python3.11/site-packages (from pyobjc->keyboard) (10.1)\n",
      "Requirement already satisfied: pyobjc-framework-CoreMediaIO==10.1 in /opt/homebrew/lib/python3.11/site-packages (from pyobjc->keyboard) (10.1)\n",
      "Requirement already satisfied: pyobjc-framework-StoreKit==10.1 in /opt/homebrew/lib/python3.11/site-packages (from pyobjc->keyboard) (10.1)\n",
      "Requirement already satisfied: pyobjc-framework-SceneKit==10.1 in /opt/homebrew/lib/python3.11/site-packages (from pyobjc->keyboard) (10.1)\n",
      "Requirement already satisfied: pyobjc-framework-libdispatch==10.1 in /opt/homebrew/lib/python3.11/site-packages (from pyobjc->keyboard) (10.1)\n",
      "Requirement already satisfied: pyobjc-framework-libxpc==10.1 in /opt/homebrew/lib/python3.11/site-packages (from pyobjc->keyboard) (10.1)\n",
      "Requirement already satisfied: pyobjc-framework-AudioVideoBridging==10.1 in /opt/homebrew/lib/python3.11/site-packages (from pyobjc->keyboard) (10.1)\n",
      "Requirement already satisfied: pyobjc-framework-Accounts==10.1 in /opt/homebrew/lib/python3.11/site-packages (from pyobjc->keyboard) (10.1)\n",
      "Requirement already satisfied: pyobjc-framework-EventKit==10.1 in /opt/homebrew/lib/python3.11/site-packages (from pyobjc->keyboard) (10.1)\n",
      "Requirement already satisfied: pyobjc-framework-GameCenter==10.1 in /opt/homebrew/lib/python3.11/site-packages (from pyobjc->keyboard) (10.1)\n",
      "Requirement already satisfied: pyobjc-framework-Social==10.1 in /opt/homebrew/lib/python3.11/site-packages (from pyobjc->keyboard) (10.1)\n",
      "Requirement already satisfied: pyobjc-framework-GameKit==10.1 in /opt/homebrew/lib/python3.11/site-packages (from pyobjc->keyboard) (10.1)\n",
      "Requirement already satisfied: pyobjc-framework-VideoToolbox==10.1 in /opt/homebrew/lib/python3.11/site-packages (from pyobjc->keyboard) (10.1)\n",
      "Requirement already satisfied: pyobjc-framework-AVKit==10.1 in /opt/homebrew/lib/python3.11/site-packages (from pyobjc->keyboard) (10.1)\n",
      "Requirement already satisfied: pyobjc-framework-GameController==10.1 in /opt/homebrew/lib/python3.11/site-packages (from pyobjc->keyboard) (10.1)\n",
      "Requirement already satisfied: pyobjc-framework-MapKit==10.1 in /opt/homebrew/lib/python3.11/site-packages (from pyobjc->keyboard) (10.1)\n",
      "Requirement already satisfied: pyobjc-framework-MediaAccessibility==10.1 in /opt/homebrew/lib/python3.11/site-packages (from pyobjc->keyboard) (10.1)\n",
      "Requirement already satisfied: pyobjc-framework-MediaLibrary==10.1 in /opt/homebrew/lib/python3.11/site-packages (from pyobjc->keyboard) (10.1)\n",
      "Requirement already satisfied: pyobjc-framework-MediaToolbox==10.1 in /opt/homebrew/lib/python3.11/site-packages (from pyobjc->keyboard) (10.1)\n",
      "Requirement already satisfied: pyobjc-framework-SpriteKit==10.1 in /opt/homebrew/lib/python3.11/site-packages (from pyobjc->keyboard) (10.1)\n",
      "Requirement already satisfied: pyobjc-framework-CloudKit==10.1 in /opt/homebrew/lib/python3.11/site-packages (from pyobjc->keyboard) (10.1)\n",
      "Requirement already satisfied: pyobjc-framework-CoreBluetooth==10.1 in /opt/homebrew/lib/python3.11/site-packages (from pyobjc->keyboard) (10.1)\n",
      "Requirement already satisfied: pyobjc-framework-CryptoTokenKit==10.1 in /opt/homebrew/lib/python3.11/site-packages (from pyobjc->keyboard) (10.1)\n",
      "Requirement already satisfied: pyobjc-framework-FinderSync==10.1 in /opt/homebrew/lib/python3.11/site-packages (from pyobjc->keyboard) (10.1)\n",
      "Requirement already satisfied: pyobjc-framework-LocalAuthentication==10.1 in /opt/homebrew/lib/python3.11/site-packages (from pyobjc->keyboard) (10.1)\n",
      "Requirement already satisfied: pyobjc-framework-MultipeerConnectivity==10.1 in /opt/homebrew/lib/python3.11/site-packages (from pyobjc->keyboard) (10.1)\n",
      "Requirement already satisfied: pyobjc-framework-NotificationCenter==10.1 in /opt/homebrew/lib/python3.11/site-packages (from pyobjc->keyboard) (10.1)\n",
      "Requirement already satisfied: pyobjc-framework-Contacts==10.1 in /opt/homebrew/lib/python3.11/site-packages (from pyobjc->keyboard) (10.1)\n",
      "Requirement already satisfied: pyobjc-framework-ContactsUI==10.1 in /opt/homebrew/lib/python3.11/site-packages (from pyobjc->keyboard) (10.1)\n",
      "Requirement already satisfied: pyobjc-framework-Metal==10.1 in /opt/homebrew/lib/python3.11/site-packages (from pyobjc->keyboard) (10.1)\n",
      "Requirement already satisfied: pyobjc-framework-MetalKit==10.1 in /opt/homebrew/lib/python3.11/site-packages (from pyobjc->keyboard) (10.1)\n",
      "Requirement already satisfied: pyobjc-framework-ModelIO==10.1 in /opt/homebrew/lib/python3.11/site-packages (from pyobjc->keyboard) (10.1)\n",
      "Requirement already satisfied: pyobjc-framework-NetworkExtension==10.1 in /opt/homebrew/lib/python3.11/site-packages (from pyobjc->keyboard) (10.1)\n",
      "Requirement already satisfied: pyobjc-framework-Photos==10.1 in /opt/homebrew/lib/python3.11/site-packages (from pyobjc->keyboard) (10.1)\n",
      "Requirement already satisfied: pyobjc-framework-PhotosUI==10.1 in /opt/homebrew/lib/python3.11/site-packages (from pyobjc->keyboard) (10.1)\n",
      "Requirement already satisfied: pyobjc-framework-GameplayKit==10.1 in /opt/homebrew/lib/python3.11/site-packages (from pyobjc->keyboard) (10.1)\n",
      "Requirement already satisfied: pyobjc-framework-Intents==10.1 in /opt/homebrew/lib/python3.11/site-packages (from pyobjc->keyboard) (10.1)\n",
      "Requirement already satisfied: pyobjc-framework-MediaPlayer==10.1 in /opt/homebrew/lib/python3.11/site-packages (from pyobjc->keyboard) (10.1)\n",
      "Requirement already satisfied: pyobjc-framework-SafariServices==10.1 in /opt/homebrew/lib/python3.11/site-packages (from pyobjc->keyboard) (10.1)\n",
      "Requirement already satisfied: pyobjc-framework-ColorSync==10.1 in /opt/homebrew/lib/python3.11/site-packages (from pyobjc->keyboard) (10.1)\n",
      "Requirement already satisfied: pyobjc-framework-CoreML==10.1 in /opt/homebrew/lib/python3.11/site-packages (from pyobjc->keyboard) (10.1)\n",
      "Requirement already satisfied: pyobjc-framework-CoreSpotlight==10.1 in /opt/homebrew/lib/python3.11/site-packages (from pyobjc->keyboard) (10.1)\n",
      "Requirement already satisfied: pyobjc-framework-ExternalAccessory==10.1 in /opt/homebrew/lib/python3.11/site-packages (from pyobjc->keyboard) (10.1)\n",
      "Requirement already satisfied: pyobjc-framework-MetalPerformanceShaders==10.1 in /opt/homebrew/lib/python3.11/site-packages (from pyobjc->keyboard) (10.1)\n",
      "Requirement already satisfied: pyobjc-framework-Vision==10.1 in /opt/homebrew/lib/python3.11/site-packages (from pyobjc->keyboard) (10.1)\n",
      "Requirement already satisfied: pyobjc-framework-AdSupport==10.1 in /opt/homebrew/lib/python3.11/site-packages (from pyobjc->keyboard) (10.1)\n",
      "Requirement already satisfied: pyobjc-framework-BusinessChat==10.1 in /opt/homebrew/lib/python3.11/site-packages (from pyobjc->keyboard) (10.1)\n",
      "Requirement already satisfied: pyobjc-framework-NaturalLanguage==10.1 in /opt/homebrew/lib/python3.11/site-packages (from pyobjc->keyboard) (10.1)\n",
      "Requirement already satisfied: pyobjc-framework-Network==10.1 in /opt/homebrew/lib/python3.11/site-packages (from pyobjc->keyboard) (10.1)\n",
      "Requirement already satisfied: pyobjc-framework-UserNotifications==10.1 in /opt/homebrew/lib/python3.11/site-packages (from pyobjc->keyboard) (10.1)\n",
      "Requirement already satisfied: pyobjc-framework-VideoSubscriberAccount==10.1 in /opt/homebrew/lib/python3.11/site-packages (from pyobjc->keyboard) (10.1)\n",
      "Requirement already satisfied: pyobjc-framework-AuthenticationServices==10.1 in /opt/homebrew/lib/python3.11/site-packages (from pyobjc->keyboard) (10.1)\n",
      "Requirement already satisfied: pyobjc-framework-AutomaticAssessmentConfiguration==10.1 in /opt/homebrew/lib/python3.11/site-packages (from pyobjc->keyboard) (10.1)\n",
      "Requirement already satisfied: pyobjc-framework-CoreHaptics==10.1 in /opt/homebrew/lib/python3.11/site-packages (from pyobjc->keyboard) (10.1)\n",
      "Requirement already satisfied: pyobjc-framework-CoreMotion==10.1 in /opt/homebrew/lib/python3.11/site-packages (from pyobjc->keyboard) (10.1)\n",
      "Requirement already satisfied: pyobjc-framework-DeviceCheck==10.1 in /opt/homebrew/lib/python3.11/site-packages (from pyobjc->keyboard) (10.1)\n",
      "Requirement already satisfied: pyobjc-framework-ExecutionPolicy==10.1 in /opt/homebrew/lib/python3.11/site-packages (from pyobjc->keyboard) (10.1)\n",
      "Requirement already satisfied: pyobjc-framework-FileProvider==10.1 in /opt/homebrew/lib/python3.11/site-packages (from pyobjc->keyboard) (10.1)\n",
      "Requirement already satisfied: pyobjc-framework-FileProviderUI==10.1 in /opt/homebrew/lib/python3.11/site-packages (from pyobjc->keyboard) (10.1)\n",
      "Requirement already satisfied: pyobjc-framework-LinkPresentation==10.1 in /opt/homebrew/lib/python3.11/site-packages (from pyobjc->keyboard) (10.1)\n",
      "Requirement already satisfied: pyobjc-framework-OSLog==10.1 in /opt/homebrew/lib/python3.11/site-packages (from pyobjc->keyboard) (10.1)\n",
      "Requirement already satisfied: pyobjc-framework-PencilKit==10.1 in /opt/homebrew/lib/python3.11/site-packages (from pyobjc->keyboard) (10.1)\n",
      "Requirement already satisfied: pyobjc-framework-PushKit==10.1 in /opt/homebrew/lib/python3.11/site-packages (from pyobjc->keyboard) (10.1)\n",
      "Requirement already satisfied: pyobjc-framework-QuickLookThumbnailing==10.1 in /opt/homebrew/lib/python3.11/site-packages (from pyobjc->keyboard) (10.1)\n",
      "Requirement already satisfied: pyobjc-framework-Speech==10.1 in /opt/homebrew/lib/python3.11/site-packages (from pyobjc->keyboard) (10.1)\n",
      "Requirement already satisfied: pyobjc-framework-SoundAnalysis==10.1 in /opt/homebrew/lib/python3.11/site-packages (from pyobjc->keyboard) (10.1)\n",
      "Requirement already satisfied: pyobjc-framework-SystemExtensions==10.1 in /opt/homebrew/lib/python3.11/site-packages (from pyobjc->keyboard) (10.1)\n",
      "Requirement already satisfied: pyobjc-framework-Accessibility==10.1 in /opt/homebrew/lib/python3.11/site-packages (from pyobjc->keyboard) (10.1)\n",
      "Requirement already satisfied: pyobjc-framework-AdServices==10.1 in /opt/homebrew/lib/python3.11/site-packages (from pyobjc->keyboard) (10.1)\n",
      "Requirement already satisfied: pyobjc-framework-AppTrackingTransparency==10.1 in /opt/homebrew/lib/python3.11/site-packages (from pyobjc->keyboard) (10.1)\n",
      "Requirement already satisfied: pyobjc-framework-CallKit==10.1 in /opt/homebrew/lib/python3.11/site-packages (from pyobjc->keyboard) (10.1)\n",
      "Requirement already satisfied: pyobjc-framework-ClassKit==10.1 in /opt/homebrew/lib/python3.11/site-packages (from pyobjc->keyboard) (10.1)\n",
      "Requirement already satisfied: pyobjc-framework-KernelManagement==10.1 in /opt/homebrew/lib/python3.11/site-packages (from pyobjc->keyboard) (10.1)\n",
      "Requirement already satisfied: pyobjc-framework-MetalPerformanceShadersGraph==10.1 in /opt/homebrew/lib/python3.11/site-packages (from pyobjc->keyboard) (10.1)\n",
      "Requirement already satisfied: pyobjc-framework-MLCompute==10.1 in /opt/homebrew/lib/python3.11/site-packages (from pyobjc->keyboard) (10.1)\n",
      "Requirement already satisfied: pyobjc-framework-PassKit==10.1 in /opt/homebrew/lib/python3.11/site-packages (from pyobjc->keyboard) (10.1)\n",
      "Requirement already satisfied: pyobjc-framework-ReplayKit==10.1 in /opt/homebrew/lib/python3.11/site-packages (from pyobjc->keyboard) (10.1)\n",
      "Requirement already satisfied: pyobjc-framework-ScreenTime==10.1 in /opt/homebrew/lib/python3.11/site-packages (from pyobjc->keyboard) (10.1)\n",
      "Requirement already satisfied: pyobjc-framework-UniformTypeIdentifiers==10.1 in /opt/homebrew/lib/python3.11/site-packages (from pyobjc->keyboard) (10.1)\n",
      "Requirement already satisfied: pyobjc-framework-UserNotificationsUI==10.1 in /opt/homebrew/lib/python3.11/site-packages (from pyobjc->keyboard) (10.1)\n",
      "Requirement already satisfied: pyobjc-framework-Virtualization==10.1 in /opt/homebrew/lib/python3.11/site-packages (from pyobjc->keyboard) (10.1)\n",
      "Requirement already satisfied: pyobjc-framework-DataDetection==10.1 in /opt/homebrew/lib/python3.11/site-packages (from pyobjc->keyboard) (10.1)\n",
      "Requirement already satisfied: pyobjc-framework-IntentsUI==10.1 in /opt/homebrew/lib/python3.11/site-packages (from pyobjc->keyboard) (10.1)\n",
      "Requirement already satisfied: pyobjc-framework-LocalAuthenticationEmbeddedUI==10.1 in /opt/homebrew/lib/python3.11/site-packages (from pyobjc->keyboard) (10.1)\n",
      "Requirement already satisfied: pyobjc-framework-MailKit==10.1 in /opt/homebrew/lib/python3.11/site-packages (from pyobjc->keyboard) (10.1)\n",
      "Requirement already satisfied: pyobjc-framework-MetricKit==10.1 in /opt/homebrew/lib/python3.11/site-packages (from pyobjc->keyboard) (10.1)\n",
      "Requirement already satisfied: pyobjc-framework-PHASE==10.1 in /opt/homebrew/lib/python3.11/site-packages (from pyobjc->keyboard) (10.1)\n",
      "Requirement already satisfied: pyobjc-framework-ShazamKit==10.1 in /opt/homebrew/lib/python3.11/site-packages (from pyobjc->keyboard) (10.1)\n",
      "Requirement already satisfied: pyobjc-framework-ScreenCaptureKit==10.1 in /opt/homebrew/lib/python3.11/site-packages (from pyobjc->keyboard) (10.1)\n",
      "Requirement already satisfied: pyobjc-framework-AVRouting==10.1 in /opt/homebrew/lib/python3.11/site-packages (from pyobjc->keyboard) (10.1)\n",
      "Requirement already satisfied: pyobjc-framework-BackgroundAssets==10.1 in /opt/homebrew/lib/python3.11/site-packages (from pyobjc->keyboard) (10.1)\n",
      "Requirement already satisfied: pyobjc-framework-ExtensionKit==10.1 in /opt/homebrew/lib/python3.11/site-packages (from pyobjc->keyboard) (10.1)\n",
      "Requirement already satisfied: pyobjc-framework-HealthKit==10.1 in /opt/homebrew/lib/python3.11/site-packages (from pyobjc->keyboard) (10.1)\n",
      "Requirement already satisfied: pyobjc-framework-MetalFX==10.1 in /opt/homebrew/lib/python3.11/site-packages (from pyobjc->keyboard) (10.1)\n",
      "Requirement already satisfied: pyobjc-framework-SafetyKit==10.1 in /opt/homebrew/lib/python3.11/site-packages (from pyobjc->keyboard) (10.1)\n",
      "Requirement already satisfied: pyobjc-framework-SharedWithYouCore==10.1 in /opt/homebrew/lib/python3.11/site-packages (from pyobjc->keyboard) (10.1)\n",
      "Requirement already satisfied: pyobjc-framework-SharedWithYou==10.1 in /opt/homebrew/lib/python3.11/site-packages (from pyobjc->keyboard) (10.1)\n",
      "Requirement already satisfied: pyobjc-framework-ThreadNetwork==10.1 in /opt/homebrew/lib/python3.11/site-packages (from pyobjc->keyboard) (10.1)\n",
      "Requirement already satisfied: pyobjc-framework-Cinematic==10.1 in /opt/homebrew/lib/python3.11/site-packages (from pyobjc->keyboard) (10.1)\n",
      "Requirement already satisfied: pyobjc-framework-SensitiveContentAnalysis==10.1 in /opt/homebrew/lib/python3.11/site-packages (from pyobjc->keyboard) (10.1)\n",
      "Requirement already satisfied: pyobjc-framework-Symbols==10.1 in /opt/homebrew/lib/python3.11/site-packages (from pyobjc->keyboard) (10.1)\n",
      "Requirement already satisfied: pyobjc-framework-CalendarStore==10.1 in /opt/homebrew/lib/python3.11/site-packages (from pyobjc->keyboard) (10.1)\n",
      "Requirement already satisfied: pyobjc-framework-Collaboration==10.1 in /opt/homebrew/lib/python3.11/site-packages (from pyobjc->keyboard) (10.1)\n",
      "Requirement already satisfied: pyobjc-framework-DictionaryServices==10.1 in /opt/homebrew/lib/python3.11/site-packages (from pyobjc->keyboard) (10.1)\n",
      "Requirement already satisfied: pyobjc-framework-FSEvents==10.1 in /opt/homebrew/lib/python3.11/site-packages (from pyobjc->keyboard) (10.1)\n",
      "Requirement already satisfied: pyobjc-framework-InputMethodKit==10.1 in /opt/homebrew/lib/python3.11/site-packages (from pyobjc->keyboard) (10.1)\n",
      "Requirement already satisfied: pyobjc-framework-InstantMessage==10.1 in /opt/homebrew/lib/python3.11/site-packages (from pyobjc->keyboard) (10.1)\n",
      "Requirement already satisfied: pyobjc-framework-ScriptingBridge==10.1 in /opt/homebrew/lib/python3.11/site-packages (from pyobjc->keyboard) (10.1)\n",
      "Note: you may need to restart the kernel to use updated packages.\n"
     ]
    }
   ],
   "source": [
    "pip install keyboard"
   ]
  },
  {
   "cell_type": "code",
   "execution_count": 3,
   "metadata": {},
   "outputs": [
    {
     "name": "stdout",
     "output_type": "stream",
     "text": [
      "Requirement already satisfied: pyaudio in /opt/homebrew/lib/python3.11/site-packages (0.2.14)\n",
      "Note: you may need to restart the kernel to use updated packages.\n"
     ]
    }
   ],
   "source": [
    "pip install pyaudio"
   ]
  },
  {
   "cell_type": "code",
   "execution_count": 4,
   "metadata": {},
   "outputs": [
    {
     "name": "stderr",
     "output_type": "stream",
     "text": [
      "/var/folders/7w/hyls2fc56q36tpl1bsjwx6340000gn/T/ipykernel_7606/1151496136.py:3: DeprecationWarning: 'audioop' is deprecated and slated for removal in Python 3.13\n",
      "  import audioop\n"
     ]
    }
   ],
   "source": [
    "import pyaudio\n",
    "import wave\n",
    "import audioop\n",
    "import sys\n",
    "import time\n",
    "import keyboard"
   ]
  },
  {
   "cell_type": "code",
   "execution_count": 5,
   "metadata": {},
   "outputs": [],
   "source": [
    "# Constants for the audio capture\n",
    "FORMAT = pyaudio.paInt16\n",
    "CHANNELS = 1  \n",
    "RATE = 44100 if sys.platform == 'darwin' else 16000  \n",
    "CHUNK = 1024  # Buffer size for audio chunks"
   ]
  },
  {
   "cell_type": "code",
   "execution_count": 6,
   "metadata": {},
   "outputs": [],
   "source": [
    "# Initialize PyAudio and start the stream\n",
    "def start_audio_stream():\n",
    "    audio = pyaudio.PyAudio()\n",
    "    stream = audio.open(format=FORMAT, channels=CHANNELS,\n",
    "                        rate=RATE, input=True,\n",
    "                        frames_per_buffer=CHUNK)\n",
    "    return audio, stream"
   ]
  },
  {
   "cell_type": "code",
   "execution_count": 7,
   "metadata": {},
   "outputs": [],
   "source": [
    "# Capture audio until silence is detected\n",
    "def capture_audio(audio, stream):\n",
    "    print(\"Hit Enter to start recording\")\n",
    "    input()\n",
    "    print(\"Recording in progress...\")\n",
    "    frames = []\n",
    "    silence_threshold = 500  # Adjust this based on ambient noise\n",
    "    silence_duration = 2  # Duration of silence in seconds to stop recording\n",
    "    silence_time = 0\n",
    "\n",
    "    while True:\n",
    "        data = stream.read(CHUNK, exception_on_overflow=False)\n",
    "        frames.append(data)\n",
    "\n",
    "        # Check the volume of the input\n",
    "        rms = audioop.rms(data, 2)\n",
    "        \n",
    "        # If the input volume is below the threshold, we consider it silence\n",
    "        if rms < silence_threshold:\n",
    "            if silence_time == 0:\n",
    "                silence_time = time.time()  # Mark the start of silence\n",
    "            elif time.time() - silence_time > silence_duration:\n",
    "                break  # Stop recording after silence_duration seconds of silence\n",
    "        else:\n",
    "            silence_time = 0  # Reset silence timer if noise is detected\n",
    "\n",
    "    return frames"
   ]
  },
  {
   "cell_type": "code",
   "execution_count": 8,
   "metadata": {},
   "outputs": [],
   "source": [
    "# Save captured audio to a file\n",
    "def save_audio(frames, filename):\n",
    "    wave_file = wave.open(filename, 'wb')\n",
    "    wave_file.setnchannels(CHANNELS)\n",
    "    wave_file.setsampwidth(pyaudio.get_sample_size(FORMAT))\n",
    "    wave_file.setframerate(RATE)\n",
    "    wave_file.writeframes(b''.join(frames))\n",
    "    wave_file.close()"
   ]
  },
  {
   "cell_type": "code",
   "execution_count": 9,
   "metadata": {},
   "outputs": [
    {
     "name": "stdout",
     "output_type": "stream",
     "text": [
      "Hit Enter to start recording\n",
      "Recording in progress...\n",
      "Recording stopped and saved to 'captured_speech.wav'\n"
     ]
    }
   ],
   "source": [
    "# Handle the audio capture process\n",
    "def main():\n",
    "    audio, stream = start_audio_stream()\n",
    "    frames = capture_audio(audio, stream)\n",
    "\n",
    "    # Stop and close the stream\n",
    "    stream.stop_stream()\n",
    "    stream.close()\n",
    "    audio.terminate()\n",
    "\n",
    "    # Save the recorded frames as a WAV file\n",
    "    filename = 'captured_speech.wav'\n",
    "    save_audio(frames, filename)\n",
    "    print(f\"Recording stopped and saved to '{filename}'\")\n",
    "\n",
    "if __name__ == '__main__':\n",
    "    main()\n",
    "    "
   ]
  },
  {
   "cell_type": "code",
   "execution_count": 10,
   "metadata": {},
   "outputs": [
    {
     "name": "stdout",
     "output_type": "stream",
     "text": [
      "Requirement already satisfied: matplotlib in /opt/homebrew/lib/python3.11/site-packages (3.8.0)\n",
      "Requirement already satisfied: numpy in /opt/homebrew/lib/python3.11/site-packages (1.26.0)\n",
      "Requirement already satisfied: contourpy>=1.0.1 in /opt/homebrew/lib/python3.11/site-packages (from matplotlib) (1.1.1)\n",
      "Requirement already satisfied: cycler>=0.10 in /opt/homebrew/lib/python3.11/site-packages (from matplotlib) (0.12.1)\n",
      "Requirement already satisfied: fonttools>=4.22.0 in /opt/homebrew/lib/python3.11/site-packages (from matplotlib) (4.43.1)\n",
      "Requirement already satisfied: kiwisolver>=1.0.1 in /opt/homebrew/lib/python3.11/site-packages (from matplotlib) (1.4.5)\n",
      "Requirement already satisfied: packaging>=20.0 in /Users/huanjingheng/Library/Python/3.11/lib/python/site-packages (from matplotlib) (23.2)\n",
      "Requirement already satisfied: pillow>=6.2.0 in /opt/homebrew/lib/python3.11/site-packages (from matplotlib) (10.1.0)\n",
      "Requirement already satisfied: pyparsing>=2.3.1 in /opt/homebrew/lib/python3.11/site-packages (from matplotlib) (3.1.1)\n",
      "Requirement already satisfied: python-dateutil>=2.7 in /Users/huanjingheng/Library/Python/3.11/lib/python/site-packages (from matplotlib) (2.8.2)\n",
      "Requirement already satisfied: six>=1.5 in /Users/huanjingheng/Library/Python/3.11/lib/python/site-packages (from python-dateutil>=2.7->matplotlib) (1.16.0)\n",
      "Note: you may need to restart the kernel to use updated packages.\n"
     ]
    }
   ],
   "source": [
    "pip install matplotlib numpy"
   ]
  },
  {
   "cell_type": "code",
   "execution_count": 11,
   "metadata": {},
   "outputs": [
    {
     "data": {
      "image/png": "[encoded data removed]",
      "text/plain": [
       "<Figure size 1200x400 with 1 Axes>"
      ]
     },
     "metadata": {},
     "output_type": "display_data"
    }
   ],
   "source": [
    "import matplotlib.pyplot as plt\n",
    "import numpy as np\n",
    "import wave\n",
    "\n",
    "# Function to plot the waveform\n",
    "def plot_waveform(filename):\n",
    "    # Open the audio file\n",
    "    with wave.open(filename, 'rb') as wave_file:\n",
    "        # Extract Raw Audio from Wav File\n",
    "        signal = wave_file.readframes(-1)\n",
    "        # Convert binary data to integers\n",
    "        signal = np.frombuffer(signal, dtype='int16')\n",
    "        \n",
    "        # Get the frame rate\n",
    "        framerate = wave_file.getframerate()\n",
    "        \n",
    "        # Time axis in seconds\n",
    "        time = np.linspace(0, len(signal) / framerate, num=len(signal))\n",
    "        \n",
    "        # Plotting the waveform\n",
    "        plt.figure(figsize=(12, 4))\n",
    "        plt.plot(time, signal)\n",
    "        plt.title('Waveform of the audio')\n",
    "        plt.ylabel('Amplitude')\n",
    "        plt.xlabel('Time (seconds)')\n",
    "        plt.xlim(left=time[0], right=time[-1])\n",
    "        plt.show()\n",
    "\n",
    "# Call this function after you save the audio file in your main function\n",
    "plot_waveform('captured_speech.wav')\n"
   ]
  }
 ],
 "metadata": {
  "kernelspec": {
   "display_name": "Python 3",
   "language": "python",
   "name": "python3"
  },
  "language_info": {
   "codemirror_mode": {
    "name": "ipython",
    "version": 3
   },
   "file_extension": ".py",
   "mimetype": "text/x-python",
   "name": "python",
   "nbconvert_exporter": "python",
   "pygments_lexer": "ipython3",
   "version": "3.11.6"
  }
 },
 "nbformat": 4,
 "nbformat_minor": 2
}
