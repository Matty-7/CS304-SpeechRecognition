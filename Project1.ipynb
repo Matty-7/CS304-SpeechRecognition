{
 "cells": [
  {
   "cell_type": "code",
   "execution_count": 23,
   "metadata": {},
   "outputs": [
    {
     "name": "stdout",
     "output_type": "stream",
     "text": [
      "Requirement already satisfied: pyaudio in c:\\python311\\lib\\site-packages (0.2.14)Note: you may need to restart the kernel to use updated packages.\n",
      "\n"
     ]
    },
    {
     "name": "stderr",
     "output_type": "stream",
     "text": [
      "DEPRECATION: Loading egg at c:\\python311\\lib\\site-packages\\sigkernel-0.0.1-py3.11-win-amd64.egg is deprecated. pip 23.3 will enforce this behaviour change. A possible replacement is to use pip for package installation..\n",
      "DEPRECATION: Loading egg at c:\\python311\\lib\\site-packages\\tslearn-0.6.1-py3.11.egg is deprecated. pip 23.3 will enforce this behaviour change. A possible replacement is to use pip for package installation..\n",
      "\n",
      "[notice] A new release of pip is available: 23.2.1 -> 23.3.2\n",
      "[notice] To update, run: python.exe -m pip install --upgrade pip\n"
     ]
    }
   ],
   "source": [
    "pip install pyaudio"
   ]
  },
  {
   "cell_type": "code",
   "execution_count": 24,
   "metadata": {},
   "outputs": [],
   "source": [
    "import pyaudio\n",
    "import wave\n",
    "import audioop\n",
    "import sys\n",
    "import time\n"
   ]
  },
  {
   "cell_type": "code",
   "execution_count": 25,
   "metadata": {},
   "outputs": [],
   "source": [
    "FORMAT = pyaudio.paInt16\n",
    "CHANNELS = 1  \n",
    "RATE = 44100 if sys.platform == 'darwin' else 16000  \n",
    "CHUNK = 1024  # Buffer size for audio chunks"
   ]
  },
  {
   "cell_type": "code",
   "execution_count": 26,
   "metadata": {},
   "outputs": [],
   "source": [
    "# Initialize PyAudio and start the stream\n",
    "def start_audio_stream():\n",
    "    audio = pyaudio.PyAudio()\n",
    "    stream = audio.open(format=FORMAT, channels=CHANNELS,\n",
    "                        rate=RATE, input=True,\n",
    "                        frames_per_buffer=CHUNK)\n",
    "    return audio, stream"
   ]
  },
  {
   "cell_type": "code",
   "execution_count": 27,
   "metadata": {},
   "outputs": [],
   "source": [
    "import math\n",
    "def compute_energy(data):\n",
    "    energy=10*math.log(sum(sample**2 for sample in data))\n",
    "    return energy"
   ]
  },
  {
   "cell_type": "code",
   "execution_count": 28,
   "metadata": {},
   "outputs": [],
   "source": [
    "# Capture audio until silence is detected\n",
    "import struct\n",
    "def capture_audio(stream):\n",
    "    print(\"Hit Enter to start recording\")\n",
    "    input()\n",
    "    print(\"Recording in progress...\")\n",
    "    frames = []\n",
    "    silence_threshold = 200  # ambient noise\n",
    "    silence_duration = 0.5 # Duration of silence in seconds to stop recording\n",
    "    silence_time = 0\n",
    "\n",
    "    while True:\n",
    "        data = stream.read(CHUNK, exception_on_overflow=False)\n",
    "        frames.append(data)\n",
    "   \n",
    "\n",
    "# Assuming `data` is defined elsewhere and contains binary data to process\n",
    "\n",
    "# Initialize an empty list to collect frames\n",
    "\n",
    "\n",
    "# Unpack short integers from the binary data and collect in `data_fl`\n",
    "        data_fl = [struct.unpack('h', data[i:i+2])[0] for i in range(0, len(data), 2)]\n",
    "        # Check the volume of the input\n",
    "        rms = compute_energy(data_fl)\n",
    "        \n",
    "        # If the input volume is below the threshold, we consider it silence\n",
    "        if rms < silence_threshold:\n",
    "            if silence_time == 0:\n",
    "                silence_time = time.time()  # Mark the start of silence\n",
    "            elif time.time() - silence_time > silence_duration:\n",
    "                break  # Stop recording after silence_duration seconds of silence\n",
    "        else:\n",
    "            silence_time = 0  # Reset silence timer if noise is detected\n",
    "\n",
    "    return frames"
   ]
  },
  {
   "cell_type": "code",
   "execution_count": 29,
   "metadata": {},
   "outputs": [],
   "source": [
    "# Save captured audio to a file\n",
    "def save_audio(frames, filename):\n",
    "    wave_file = wave.open(filename, 'wb')\n",
    "    wave_file.setnchannels(CHANNELS)\n",
    "    wave_file.setsampwidth(pyaudio.get_sample_size(FORMAT))\n",
    "    wave_file.setframerate(RATE)\n",
    "    wave_file.writeframes(b''.join(frames))\n",
    "    wave_file.close()"
   ]
  },
  {
   "cell_type": "code",
   "execution_count": 30,
   "metadata": {},
   "outputs": [
    {
     "name": "stdout",
     "output_type": "stream",
     "text": [
      "Hit Enter to start recording\n",
      "Recording in progress...\n",
      "Recording stopped and saved to 'captured_speech.wav'\n"
     ]
    }
   ],
   "source": [
    "# Handle the audio capture process\n",
    "def main():\n",
    "    audio, stream = start_audio_stream()\n",
    "    frames = capture_audio(stream)\n",
    "\n",
    "    # Stop and close the stream\n",
    "    stream.stop_stream()\n",
    "    stream.close()\n",
    "    audio.terminate()\n",
    "\n",
    "    # Save the recorded frames as a WAV file\n",
    "    filename = 'captured_speech.wav'\n",
    "    save_audio(frames, filename)\n",
    "    print(f\"Recording stopped and saved to '{filename}'\")\n",
    "\n",
    "if __name__ == '__main__':\n",
    "    main()\n",
    "    "
   ]
  },
  {
   "cell_type": "code",
   "execution_count": 31,
   "metadata": {},
   "outputs": [
    {
     "name": "stdout",
     "output_type": "stream",
     "text": [
      "Requirement already satisfied: matplotlib in c:\\users\\dell\\appdata\\roaming\\python\\python311\\site-packages (3.7.1)Note: you may need to restart the kernel to use updated packages.\n"
     ]
    },
    {
     "name": "stderr",
     "output_type": "stream",
     "text": [
      "DEPRECATION: Loading egg at c:\\python311\\lib\\site-packages\\sigkernel-0.0.1-py3.11-win-amd64.egg is deprecated. pip 23.3 will enforce this behaviour change. A possible replacement is to use pip for package installation..\n",
      "DEPRECATION: Loading egg at c:\\python311\\lib\\site-packages\\tslearn-0.6.1-py3.11.egg is deprecated. pip 23.3 will enforce this behaviour change. A possible replacement is to use pip for package installation..\n",
      "\n",
      "[notice] A new release of pip is available: 23.2.1 -> 23.3.2\n",
      "[notice] To update, run: python.exe -m pip install --upgrade pip\n"
     ]
    },
    {
     "name": "stdout",
     "output_type": "stream",
     "text": [
      "\n",
      "Requirement already satisfied: numpy in c:\\python311\\lib\\site-packages (1.24.0)\n",
      "Requirement already satisfied: contourpy>=1.0.1 in c:\\users\\dell\\appdata\\roaming\\python\\python311\\site-packages (from matplotlib) (1.0.7)\n",
      "Requirement already satisfied: cycler>=0.10 in c:\\users\\dell\\appdata\\roaming\\python\\python311\\site-packages (from matplotlib) (0.11.0)\n",
      "Requirement already satisfied: fonttools>=4.22.0 in c:\\users\\dell\\appdata\\roaming\\python\\python311\\site-packages (from matplotlib) (4.40.0)\n",
      "Requirement already satisfied: kiwisolver>=1.0.1 in c:\\users\\dell\\appdata\\roaming\\python\\python311\\site-packages (from matplotlib) (1.4.4)\n",
      "Requirement already satisfied: packaging>=20.0 in c:\\users\\dell\\appdata\\roaming\\python\\python311\\site-packages (from matplotlib) (23.1)\n",
      "Requirement already satisfied: pillow>=6.2.0 in c:\\users\\dell\\appdata\\roaming\\python\\python311\\site-packages (from matplotlib) (9.5.0)\n",
      "Requirement already satisfied: pyparsing>=2.3.1 in c:\\users\\dell\\appdata\\roaming\\python\\python311\\site-packages (from matplotlib) (3.1.0)\n",
      "Requirement already satisfied: python-dateutil>=2.7 in c:\\python311\\lib\\site-packages (from matplotlib) (2.8.2)\n",
      "Requirement already satisfied: six>=1.5 in c:\\python311\\lib\\site-packages (from python-dateutil>=2.7->matplotlib) (1.16.0)\n"
     ]
    }
   ],
   "source": [
    "pip install matplotlib numpy"
   ]
  },
  {
   "cell_type": "code",
   "execution_count": 32,
   "metadata": {},
   "outputs": [
    {
     "data": {
      "image/png": "[encoded data removed]",
      "text/plain": [
       "<Figure size 1200x400 with 1 Axes>"
      ]
     },
     "metadata": {},
     "output_type": "display_data"
    }
   ],
   "source": [
    "import matplotlib.pyplot as plt\n",
    "import numpy as np\n",
    "import wave\n",
    "\n",
    "def plot_waveform(filename):\n",
    "    \n",
    "    with wave.open(filename, 'rb') as wave_file:\n",
    "        # Extract Raw Audio \n",
    "        signal = wave_file.readframes(-1)\n",
    "        # Convert binary data to integers\n",
    "        signal = np.frombuffer(signal, dtype='int16')\n",
    "        \n",
    "        # Get the frame rate\n",
    "        framerate = wave_file.getframerate()\n",
    "        \n",
    "        # Time axis in seconds\n",
    "        time = np.linspace(0, len(signal) / framerate, num=len(signal))\n",
    "\n",
    "        plt.style.use('dark_background')  # Set the background theme\n",
    "        \n",
    "        # Plotting the waveform\n",
    "        plt.figure(figsize=(12, 4))\n",
    "        plt.plot(time, signal, color='cyan')\n",
    "        plt.title('Waveform of the audio')\n",
    "        plt.ylabel('Amplitude')\n",
    "        plt.xlabel('Time (seconds)')\n",
    "        plt.xlim(left=time[0], right=time[-1])\n",
    "        plt.show()\n",
    "\n",
    "plot_waveform('captured_speech.wav')\n"
   ]
  }
 ],
 "metadata": {
  "kernelspec": {
   "display_name": "Python 3",
   "language": "python",
   "name": "python3"
  },
  "language_info": {
   "codemirror_mode": {
    "name": "ipython",
    "version": 3
   },
   "file_extension": ".py",
   "mimetype": "text/x-python",
   "name": "python",
   "nbconvert_exporter": "python",
   "pygments_lexer": "ipython3",
   "version": "3.11.0"
  }
 },
 "nbformat": 4,
 "nbformat_minor": 2
}
